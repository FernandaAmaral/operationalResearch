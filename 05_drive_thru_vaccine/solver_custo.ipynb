{
 "cells": [
  {
   "cell_type": "code",
   "execution_count": 20,
   "source": [
    "import pandas as pd\n",
    "from ortools.linear_solver import pywraplp"
   ],
   "outputs": [],
   "metadata": {}
  },
  {
   "cell_type": "code",
   "execution_count": 21,
   "source": [
    "solver = pywraplp.Solver.CreateSolver('GLOP')"
   ],
   "outputs": [],
   "metadata": {}
  },
  {
   "cell_type": "code",
   "execution_count": 22,
   "source": [
    "df = pd.read_csv('RA.csv')\n",
    "df.head()"
   ],
   "outputs": [
    {
     "output_type": "execute_result",
     "data": {
      "text/plain": [
       "  Região administrativa  Num de veiculos  % de veiculos  Aluguel medio  \\\n",
       "0          Plano Piloto            74038           86.9         2268.0   \n",
       "1                  Gama            25485           65.0          965.0   \n",
       "2            Taguatinga            45951           72.0         1037.0   \n",
       "3            Brazlândia             8798           56.1          850.0   \n",
       "4            Sobradinho            13364           72.9         1003.0   \n",
       "\n",
       "   Dist centro        lat        lon  \n",
       "0            0 -15.797422 -47.878090  \n",
       "1           30 -16.018858 -48.067951  \n",
       "2           19 -15.803228 -48.017552  \n",
       "3           59 -15.622604 -48.134750  \n",
       "4           22 -15.633557 -47.829898  "
      ],
      "text/html": [
       "<div>\n",
       "<style scoped>\n",
       "    .dataframe tbody tr th:only-of-type {\n",
       "        vertical-align: middle;\n",
       "    }\n",
       "\n",
       "    .dataframe tbody tr th {\n",
       "        vertical-align: top;\n",
       "    }\n",
       "\n",
       "    .dataframe thead th {\n",
       "        text-align: right;\n",
       "    }\n",
       "</style>\n",
       "<table border=\"1\" class=\"dataframe\">\n",
       "  <thead>\n",
       "    <tr style=\"text-align: right;\">\n",
       "      <th></th>\n",
       "      <th>Região administrativa</th>\n",
       "      <th>Num de veiculos</th>\n",
       "      <th>% de veiculos</th>\n",
       "      <th>Aluguel medio</th>\n",
       "      <th>Dist centro</th>\n",
       "      <th>lat</th>\n",
       "      <th>lon</th>\n",
       "    </tr>\n",
       "  </thead>\n",
       "  <tbody>\n",
       "    <tr>\n",
       "      <th>0</th>\n",
       "      <td>Plano Piloto</td>\n",
       "      <td>74038</td>\n",
       "      <td>86.9</td>\n",
       "      <td>2268.0</td>\n",
       "      <td>0</td>\n",
       "      <td>-15.797422</td>\n",
       "      <td>-47.878090</td>\n",
       "    </tr>\n",
       "    <tr>\n",
       "      <th>1</th>\n",
       "      <td>Gama</td>\n",
       "      <td>25485</td>\n",
       "      <td>65.0</td>\n",
       "      <td>965.0</td>\n",
       "      <td>30</td>\n",
       "      <td>-16.018858</td>\n",
       "      <td>-48.067951</td>\n",
       "    </tr>\n",
       "    <tr>\n",
       "      <th>2</th>\n",
       "      <td>Taguatinga</td>\n",
       "      <td>45951</td>\n",
       "      <td>72.0</td>\n",
       "      <td>1037.0</td>\n",
       "      <td>19</td>\n",
       "      <td>-15.803228</td>\n",
       "      <td>-48.017552</td>\n",
       "    </tr>\n",
       "    <tr>\n",
       "      <th>3</th>\n",
       "      <td>Brazlândia</td>\n",
       "      <td>8798</td>\n",
       "      <td>56.1</td>\n",
       "      <td>850.0</td>\n",
       "      <td>59</td>\n",
       "      <td>-15.622604</td>\n",
       "      <td>-48.134750</td>\n",
       "    </tr>\n",
       "    <tr>\n",
       "      <th>4</th>\n",
       "      <td>Sobradinho</td>\n",
       "      <td>13364</td>\n",
       "      <td>72.9</td>\n",
       "      <td>1003.0</td>\n",
       "      <td>22</td>\n",
       "      <td>-15.633557</td>\n",
       "      <td>-47.829898</td>\n",
       "    </tr>\n",
       "  </tbody>\n",
       "</table>\n",
       "</div>"
      ]
     },
     "metadata": {},
     "execution_count": 22
    }
   ],
   "metadata": {}
  },
  {
   "cell_type": "markdown",
   "source": [
    "## Variáveis do problema"
   ],
   "metadata": {}
  },
  {
   "cell_type": "code",
   "execution_count": 23,
   "source": [
    "N = len(df)                             # Número de RAs\n",
    "A = df['Aluguel medio'].to_numpy()      # Aluguel medio\n",
    "V = df['Num de veiculos'].to_numpy()    # Número de veículos\n",
    "D = df['Dist centro'].to_numpy()        # Distância entre a RA e o centro de distribuição das vacinas (plano piloto)\n",
    "\n",
    "cities = df['Região administrativa'].to_numpy()"
   ],
   "outputs": [],
   "metadata": {}
  },
  {
   "cell_type": "code",
   "execution_count": 24,
   "source": [
    "cap_max = 25000         # Capacidade max de atendimento de cada drive thru\n",
    "gas = 6/12              # Preço do km rodado (preço da gasolina / consumo)\n",
    "doses = 500000          # Número de doses de vacina disponíveis\n",
    "qtde_pessoas = 3        # Quantidade média de pessoas vacinadas por carro"
   ],
   "outputs": [],
   "metadata": {}
  },
  {
   "cell_type": "markdown",
   "source": [
    "## Variável alvo\n",
    "\n",
    "Quantidade de drive thrus por Região Administrativa do DF\n",
    "\n",
    "- **Limite mínimo**: 0\n",
    "- **Limite máximo**: 2"
   ],
   "metadata": {}
  },
  {
   "cell_type": "code",
   "execution_count": 25,
   "source": [
    "X = [solver.IntVar(0, 2, f'X{i}') for i in range(N)]"
   ],
   "outputs": [],
   "metadata": {}
  },
  {
   "cell_type": "markdown",
   "source": [
    "## Restrições\n",
    "\n",
    "1. Todas as doses disponíveis devem ser distribuídas.\n",
    "\n",
    "O número de postos drive thru criados deve ser igual ao número de doses disponíveis dividido pela capacidade de atendimento de cada posto\n",
    "\n",
    "\n",
    "$$ \\sum_{i=0}^{N} X_{i}  = \\frac{d}{c}$$"
   ],
   "metadata": {}
  },
  {
   "cell_type": "code",
   "execution_count": 26,
   "source": [
    "ct = solver.Constraint(doses/cap_max, doses/cap_max, 'ct_num_doses')\n",
    "for i in range(N):\n",
    "    ct.SetCoefficient(X[i], 1)"
   ],
   "outputs": [],
   "metadata": {}
  },
  {
   "cell_type": "markdown",
   "source": [
    "2. Uma região só receberá um drive thru se a quantidade de vacinantes (Qtde de carros [V] * média de vacinantes por carro [q]) for maior do que a capacidade de vacinação do posto\n",
    "\n",
    "$$\\sum X_{i} \\frac{c}{qV_{i}} \\leq 1$$"
   ],
   "metadata": {}
  },
  {
   "cell_type": "code",
   "execution_count": 27,
   "source": [
    "# ct = solver.Constraint(0, qtde_pessoas/cap_max, 'ct_num_vacinantes')\n",
    "# for i in range(N):\n",
    "#     ct.SetCoefficient(X[i], 1/V[i])"
   ],
   "outputs": [],
   "metadata": {}
  },
  {
   "cell_type": "markdown",
   "source": [
    "## Função objetivo\n",
    "\n",
    "Minimizar o custo de distribuição das vacinas\n",
    "\n",
    "Aqui, é considerado o custo de transporte das vacinas até o posto (considerando que o centro de distribuição está localizado no Plano Piloto) e o custo de armazenamento das vacinas (considerando o preço do aluguel médio de cada região administrativa)\n",
    "\n",
    "$$min \\left ( \\sum_{i=0}^{N} X_{i} (A_{i} + gD_{i}) \\right )$$"
   ],
   "metadata": {}
  },
  {
   "cell_type": "code",
   "execution_count": 28,
   "source": [
    "objective = solver.Objective()\n",
    "\n",
    "for i in range(N):\n",
    "    objective.SetCoefficient(X[i], A[i] + D[i]*gas)\n",
    "objective.SetMinimization()"
   ],
   "outputs": [],
   "metadata": {}
  },
  {
   "cell_type": "markdown",
   "source": [
    "## Resultado"
   ],
   "metadata": {}
  },
  {
   "cell_type": "code",
   "execution_count": 29,
   "source": [
    "status = solver.Solve()"
   ],
   "outputs": [],
   "metadata": {}
  },
  {
   "cell_type": "code",
   "execution_count": 30,
   "source": [
    "if status == pywraplp.Solver.OPTIMAL:\n",
    "    print('Valor objetivo =', solver.Objective().Value())\n",
    "    for i in range(N):\n",
    "        n = X[i].solution_value()\n",
    "        if n:\n",
    "            print(f\"{cities[i]}: {n} postos\")\n",
    "else:\n",
    "    print('O problema não possui solução ótima')"
   ],
   "outputs": [
    {
     "output_type": "stream",
     "name": "stdout",
     "text": [
      "O problema não possui solução ótima\n"
     ]
    }
   ],
   "metadata": {}
  },
  {
   "cell_type": "code",
   "execution_count": null,
   "source": [],
   "outputs": [],
   "metadata": {}
  }
 ],
 "metadata": {
  "orig_nbformat": 4,
  "language_info": {
   "name": "python",
   "version": "3.8.5",
   "mimetype": "text/x-python",
   "codemirror_mode": {
    "name": "ipython",
    "version": 3
   },
   "pygments_lexer": "ipython3",
   "nbconvert_exporter": "python",
   "file_extension": ".py"
  },
  "kernelspec": {
   "name": "python3",
   "display_name": "Python 3.8.5 64-bit ('venv': venv)"
  },
  "interpreter": {
   "hash": "c7cccabeb809e914785bcf81f2cf0186527cf4d16c37e06db6d87802adf20cef"
  }
 },
 "nbformat": 4,
 "nbformat_minor": 2
}