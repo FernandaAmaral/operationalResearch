{
 "cells": [
  {
   "cell_type": "code",
   "execution_count": 52,
   "source": [
    "import pandas as pd\n",
    "from ortools.linear_solver import pywraplp"
   ],
   "outputs": [],
   "metadata": {}
  },
  {
   "cell_type": "code",
   "execution_count": 53,
   "source": [
    "solver = pywraplp.Solver.CreateSolver('GLOP')"
   ],
   "outputs": [],
   "metadata": {}
  },
  {
   "cell_type": "code",
   "execution_count": 54,
   "source": [
    "df = pd.read_csv('RA.csv')\n",
    "df.head()"
   ],
   "outputs": [
    {
     "output_type": "execute_result",
     "data": {
      "text/plain": [
       "  Região administrativa  Num de veiculos  % de veiculos  Aluguel medio  \\\n",
       "0          Plano Piloto            74038           86.9         2268.0   \n",
       "1                  Gama            25485           65.0          965.0   \n",
       "2            Taguatinga            45951           72.0         1037.0   \n",
       "3            Brazlândia             8798           56.1          850.0   \n",
       "4            Sobradinho            13364           72.9         1003.0   \n",
       "\n",
       "   Dist centro  \n",
       "0            0  \n",
       "1           30  \n",
       "2           19  \n",
       "3           59  \n",
       "4           22  "
      ],
      "text/html": [
       "<div>\n",
       "<style scoped>\n",
       "    .dataframe tbody tr th:only-of-type {\n",
       "        vertical-align: middle;\n",
       "    }\n",
       "\n",
       "    .dataframe tbody tr th {\n",
       "        vertical-align: top;\n",
       "    }\n",
       "\n",
       "    .dataframe thead th {\n",
       "        text-align: right;\n",
       "    }\n",
       "</style>\n",
       "<table border=\"1\" class=\"dataframe\">\n",
       "  <thead>\n",
       "    <tr style=\"text-align: right;\">\n",
       "      <th></th>\n",
       "      <th>Região administrativa</th>\n",
       "      <th>Num de veiculos</th>\n",
       "      <th>% de veiculos</th>\n",
       "      <th>Aluguel medio</th>\n",
       "      <th>Dist centro</th>\n",
       "    </tr>\n",
       "  </thead>\n",
       "  <tbody>\n",
       "    <tr>\n",
       "      <th>0</th>\n",
       "      <td>Plano Piloto</td>\n",
       "      <td>74038</td>\n",
       "      <td>86.9</td>\n",
       "      <td>2268.0</td>\n",
       "      <td>0</td>\n",
       "    </tr>\n",
       "    <tr>\n",
       "      <th>1</th>\n",
       "      <td>Gama</td>\n",
       "      <td>25485</td>\n",
       "      <td>65.0</td>\n",
       "      <td>965.0</td>\n",
       "      <td>30</td>\n",
       "    </tr>\n",
       "    <tr>\n",
       "      <th>2</th>\n",
       "      <td>Taguatinga</td>\n",
       "      <td>45951</td>\n",
       "      <td>72.0</td>\n",
       "      <td>1037.0</td>\n",
       "      <td>19</td>\n",
       "    </tr>\n",
       "    <tr>\n",
       "      <th>3</th>\n",
       "      <td>Brazlândia</td>\n",
       "      <td>8798</td>\n",
       "      <td>56.1</td>\n",
       "      <td>850.0</td>\n",
       "      <td>59</td>\n",
       "    </tr>\n",
       "    <tr>\n",
       "      <th>4</th>\n",
       "      <td>Sobradinho</td>\n",
       "      <td>13364</td>\n",
       "      <td>72.9</td>\n",
       "      <td>1003.0</td>\n",
       "      <td>22</td>\n",
       "    </tr>\n",
       "  </tbody>\n",
       "</table>\n",
       "</div>"
      ]
     },
     "metadata": {},
     "execution_count": 54
    }
   ],
   "metadata": {}
  },
  {
   "cell_type": "markdown",
   "source": [
    "## Variáveis do problema"
   ],
   "metadata": {}
  },
  {
   "cell_type": "code",
   "execution_count": 55,
   "source": [
    "N = len(df)                             # Número de RAs\n",
    "V = df['Num de veiculos'].to_numpy()    # Número de veículos\n",
    "D = df['Dist centro'].to_numpy()        # Distância entre a RA e o centro de distribuição das vacinas (plano piloto)\n",
    "\n",
    "cities = df['Região administrativa'].to_numpy()"
   ],
   "outputs": [],
   "metadata": {}
  },
  {
   "cell_type": "code",
   "execution_count": 56,
   "source": [
    "cap_min = 10000         # Capacidade min de atendimento de cada drive thru\n",
    "cap_max = 20000         # Capacidade max de atendimento de cada drive thru\n",
    "doses = 200000          # Número de doses de vacina disponíveis\n",
    "qtde_pessoas = 2        # Quantidade média de pessoas vacinadas por carro\n",
    "dist_max = 15           # Distância máxima entre dois postos drive thru"
   ],
   "outputs": [],
   "metadata": {}
  },
  {
   "cell_type": "markdown",
   "source": [
    "## Variável alvo\n",
    "\n",
    "Quantidade de drive thrus por Região Administrativa do DF\n",
    "\n",
    "- **Limite mínimo**: 0\n",
    "- **Limite máximo**: 2"
   ],
   "metadata": {}
  },
  {
   "cell_type": "code",
   "execution_count": 57,
   "source": [
    "X = []\n",
    "\n",
    "for i in range(N):\n",
    "    qt_vacinantes = V[i] * qtde_pessoas\n",
    "    qt_max = int(min(cap_max, qt_vacinantes))\n",
    "\n",
    "    if qt_vacinantes < cap_min:\n",
    "        X.append(solver.IntVar(0, 0, f'X{i}'))\n",
    "    else:\n",
    "        X.append(solver.IntVar(0, qt_max, f'X{i}'))"
   ],
   "outputs": [],
   "metadata": {}
  },
  {
   "cell_type": "markdown",
   "source": [
    "## Restrições\n",
    "\n",
    "1. O número máximo de doses distribuídas deve ser menor do que a qtde disponível\n",
    "\n",
    "\n",
    "$$ \\sum_{i=0}^{N} X_{i}  = doses$$"
   ],
   "metadata": {}
  },
  {
   "cell_type": "code",
   "execution_count": 58,
   "source": [
    "ct = solver.Constraint(doses, doses, 'ct_num_doses')\n",
    "for i in range(N):\n",
    "    ct.SetCoefficient(X[i], 1)"
   ],
   "outputs": [],
   "metadata": {}
  },
  {
   "cell_type": "markdown",
   "source": [
    "2. Uma região só receberá um drive thru se a quantidade de vacinantes (Qtde de carros [V] * média de vacinantes por carro [q]) for maior do que a capacidade de vacinação do posto\n",
    "\n",
    "$$\\sum X_{i} \\frac{c}{qV_{i}} \\leq 1$$"
   ],
   "metadata": {}
  },
  {
   "cell_type": "code",
   "execution_count": 59,
   "source": [
    "# ct = solver.Constraint(0, qtde_pessoas/cap_max, 'ct_num_vacinantes')\n",
    "# for i in range(N):\n",
    "#     ct.SetCoefficient(X[i], 1/V[i])"
   ],
   "outputs": [],
   "metadata": {}
  },
  {
   "cell_type": "markdown",
   "source": [
    "## Função objetivo\n",
    "\n",
    "Minimizar o custo de distribuição das vacinas\n",
    "\n",
    "Aqui, é considerado o custo de transporte das vacinas até o posto (considerando que o centro de distribuição está localizado no Plano Piloto) e o custo de armazenamento das vacinas (considerando o preço do aluguel médio de cada região administrativa)\n",
    "\n",
    "$$min \\left ( \\sum_{i=0}^{N} X_{i} (A_{i} + gD_{i}) \\right )$$"
   ],
   "metadata": {}
  },
  {
   "cell_type": "code",
   "execution_count": 60,
   "source": [
    "objective = solver.Objective()\n",
    "\n",
    "for i in range(N):\n",
    "    objective.SetCoefficient(X[i], 1)\n",
    "objective.SetMaximization()"
   ],
   "outputs": [],
   "metadata": {}
  },
  {
   "cell_type": "markdown",
   "source": [
    "## Resultado"
   ],
   "metadata": {}
  },
  {
   "cell_type": "code",
   "execution_count": 61,
   "source": [
    "status = solver.Solve()"
   ],
   "outputs": [],
   "metadata": {}
  },
  {
   "cell_type": "code",
   "execution_count": 62,
   "source": [
    "if status == pywraplp.Solver.OPTIMAL:\n",
    "    print('Valor objetivo =', solver.Objective().Value())\n",
    "    for i in range(N):\n",
    "        n = X[i].solution_value()\n",
    "        if n:\n",
    "            print(f\"{cities[i]}: {n} vacinas\")\n",
    "else:\n",
    "    print('O problema não possui solução ótima')"
   ],
   "outputs": [
    {
     "output_type": "stream",
     "name": "stdout",
     "text": [
      "Valor objetivo = 200000.0\n",
      "Recanto das Emas: 20000.0 vacinas\n",
      "Riacho Fundo: 17936.0 vacinas\n",
      "Lago Norte: 19858.0 vacinas\n",
      "Águas Claras: 20000.0 vacinas\n",
      "Riacho Fundo II: 20000.0 vacinas\n",
      "Sudoeste/Octogonal: 20000.0 vacinas\n",
      "Park Way: 10194.0 vacinas\n",
      "Sobradinho II: 20000.0 vacinas\n",
      "Jardim Botânico: 13922.0 vacinas\n",
      "Itapoã: 19788.0 vacinas\n",
      "Vicente Pires: 18302.0 vacinas\n"
     ]
    }
   ],
   "metadata": {}
  },
  {
   "cell_type": "code",
   "execution_count": null,
   "source": [],
   "outputs": [],
   "metadata": {}
  }
 ],
 "metadata": {
  "orig_nbformat": 4,
  "language_info": {
   "name": "python",
   "version": "3.8.5",
   "mimetype": "text/x-python",
   "codemirror_mode": {
    "name": "ipython",
    "version": 3
   },
   "pygments_lexer": "ipython3",
   "nbconvert_exporter": "python",
   "file_extension": ".py"
  },
  "kernelspec": {
   "name": "python3",
   "display_name": "Python 3.8.5 64-bit ('venv': venv)"
  },
  "interpreter": {
   "hash": "c7cccabeb809e914785bcf81f2cf0186527cf4d16c37e06db6d87802adf20cef"
  }
 },
 "nbformat": 4,
 "nbformat_minor": 2
}